{
 "cells": [
  {
   "cell_type": "code",
   "execution_count": 1,
   "metadata": {},
   "outputs": [],
   "source": [
    "import glob\n",
    "import numpy as np\n",
    "import os\n",
    "import pandas as pd"
   ]
  },
  {
   "cell_type": "code",
   "execution_count": 11,
   "metadata": {},
   "outputs": [],
   "source": [
    "data = pd.read_csv('./txt_resp_freq/E_001.txt', header=None, error_bad_lines=False, sep='\\n', delimiter=';').values"
   ]
  },
  {
   "cell_type": "code",
   "execution_count": 2,
   "metadata": {},
   "outputs": [],
   "source": [
    "def read_data(filename,col):\n",
    "    data = pd.read_csv(filename, header=None, error_bad_lines=False, sep='\\n', delimiter=';').values\n",
    "    return data[:,col].astype(float)"
   ]
  },
  {
   "cell_type": "code",
   "execution_count": 3,
   "metadata": {},
   "outputs": [],
   "source": [
    "path = os.path.join('txt_resp_freq', 'E_001.txt')\n",
    "f_axis = read_data(path,0)"
   ]
  },
  {
   "cell_type": "code",
   "execution_count": 4,
   "metadata": {},
   "outputs": [
    {
     "data": {
      "text/plain": [
       "array([1.9851000e+01, 2.0187000e+01, 2.0524000e+01, ..., 1.9998963e+04,\n",
       "       1.9999299e+04, 1.9999637e+04])"
      ]
     },
     "execution_count": 4,
     "metadata": {},
     "output_type": "execute_result"
    }
   ],
   "source": [
    "f_axis"
   ]
  },
  {
   "cell_type": "code",
   "execution_count": 5,
   "metadata": {},
   "outputs": [],
   "source": [
    "eixo_polar= glob.glob('./txt_resp_freq/P_[0-999]*.txt')\n",
    "eixo_equador= glob.glob('./txt_resp_freq/E_[0-999]*.txt')"
   ]
  },
  {
   "cell_type": "code",
   "execution_count": 6,
   "metadata": {},
   "outputs": [],
   "source": [
    "p_dB=[]\n",
    "for file in eixo_polar:\n",
    "    data = read_data(file,1)\n",
    "    p_dB.append(data)"
   ]
  },
  {
   "cell_type": "code",
   "execution_count": 19,
   "metadata": {},
   "outputs": [
    {
     "name": "stdout",
     "output_type": "stream",
     "text": [
      "Erro na formatação do arquivo:./txt_resp_freq/E_225.txt\n",
      "Erro na formatação do arquivo:./txt_resp_freq/E_135.txt\n"
     ]
    }
   ],
   "source": [
    "e_dB=[]\n",
    "for file in eixo_equador:\n",
    "    try:\n",
    "        data = read_data(file,1)\n",
    "    except:\n",
    "        print('Erro na formatação do arquivo:'+ file)\n",
    "        pass\n",
    "    e_dB.append(data)"
   ]
  },
  {
   "cell_type": "code",
   "execution_count": 15,
   "metadata": {},
   "outputs": [],
   "source": [
    "def soma_dB(f):\n",
    "    aux = 0\n",
    "    for idx in f:\n",
    "        aux=aux + (10**(idx/10))\n",
    "    \n",
    "    dB = 10*(np.log10(aux))\n",
    "    return dB\n"
   ]
  },
  {
   "cell_type": "markdown",
   "metadata": {},
   "source": [
    "# Frequências por oitavas(centro) e seus limites           \n",
    "          \n",
    "    # 44\t 63 \t  88      [72:203]\n",
    "    # 88\t 125\t  177     [204:467]\n",
    "    # 177    250\t  355     [468:996]\n",
    "    # 355    500\t  710     [997:2051]\n",
    "    # 710    1000\t 1420    [2052:4162]\n",
    "    # 1420   2000\t 2840    [4163:8382]\n",
    "    # 2840   4000\t 5680    [8383:16823]\n",
    "    # 5680   8000\t 11360   [16824:33705]\n",
    "    # 11360  16000    22720   [33706:]\n",
    " "
   ]
  },
  {
   "cell_type": "code",
   "execution_count": 20,
   "metadata": {},
   "outputs": [],
   "source": [
    "def converte_oitava(vetor):  #acima de 63Hz\n",
    "    aux=[]\n",
    "    aux.append(soma_dB(vetor[72:203])) #63Hz\n",
    "    aux.append(soma_dB(vetor[204:467])) #125Hz\n",
    "    aux.append(soma_dB(vetor[468:996])) #250Hz\n",
    "    aux.append(soma_dB(vetor[997:20513])) #500Hz\n",
    "    aux.append(soma_dB(vetor[2052:4162])) #1000Hz\n",
    "    aux.append(soma_dB(vetor[4163:8382])) #2000Hz\n",
    "    aux.append(soma_dB(vetor[8383:16823])) #4000Hz\n",
    "    aux.append(soma_dB(vetor[16824:33705])) #8000Hz\n",
    "    aux.append(soma_dB(vetor[33706:])) #16000Hz\n",
    "    return aux\n",
    "    \n",
    "    "
   ]
  },
  {
   "cell_type": "code",
   "execution_count": 21,
   "metadata": {},
   "outputs": [
    {
     "data": {
      "text/plain": [
       "[109.85969739287472,\n",
       " 114.43058839063313,\n",
       " 116.43489232875139,\n",
       " 134.82613638669056,\n",
       " 123.93367137678487,\n",
       " 128.2771256162152,\n",
       " 131.09672596171097,\n",
       " 134.04272635256154,\n",
       " 128.03920150450998]"
      ]
     },
     "execution_count": 21,
     "metadata": {},
     "output_type": "execute_result"
    }
   ],
   "source": [
    "x=converte_oitava(np.array(e_dB)[11])\n",
    "x"
   ]
  },
  {
   "cell_type": "code",
   "execution_count": 18,
   "metadata": {},
   "outputs": [
    {
     "data": {
      "text/plain": [
       "[array([44.441, 43.184, 42.512, ..., 78.731, 78.693, 78.675]),\n",
       " array([52.673, 53.223, 52.827, ..., 55.973, 55.93 , 55.931]),\n",
       " array([47.708, 48.838, 49.52 , ..., 67.88 , 67.792, 67.741]),\n",
       " array([52.681, 53.228, 52.812, ..., 48.969, 48.332, 47.645]),\n",
       " array([37.291, 42.809, 45.141, ..., 59.398, 59.31 , 59.263]),\n",
       " array([40.092, 37.541, 37.998, ..., 64.337, 64.258, 64.178]),\n",
       " array([40.092, 37.541, 37.998, ..., 64.337, 64.258, 64.178]),\n",
       " array([63.163, 61.573, 58.263, ..., 81.165, 81.13 , 81.118]),\n",
       " array([52.681, 53.228, 52.812, ..., 48.969, 48.332, 47.645]),\n",
       " array([37.291, 42.809, 45.141, ..., 59.398, 59.31 , 59.263]),\n",
       " array([45.877, 46.243, 46.547, ..., 73.368, 73.373, 73.397]),\n",
       " array([47.817, 44.198, 41.807, ..., 80.272, 80.261, 80.268]),\n",
       " array([40.092, 37.541, 37.998, ..., 64.337, 64.258, 64.178]),\n",
       " array([36.624, 41.204, 43.62 , ..., 51.013, 51.111, 51.087]),\n",
       " array([36.624, 41.204, 43.62 , ..., 51.013, 51.111, 51.087]),\n",
       " array([48.828, 50.795, 51.557, ..., 71.008, 71.011, 71.028]),\n",
       " array([44.441, 43.184, 42.512, ..., 78.731, 78.693, 78.675]),\n",
       " array([45.877, 46.243, 46.547, ..., 73.368, 73.373, 73.397]),\n",
       " array([47.708, 48.838, 49.52 , ..., 67.88 , 67.792, 67.741]),\n",
       " array([55.515, 56.993, 57.592, ..., 76.559, 76.541, 76.542]),\n",
       " array([63.163, 61.573, 58.263, ..., 81.165, 81.13 , 81.118]),\n",
       " array([55.515, 56.993, 57.592, ..., 76.559, 76.541, 76.542]),\n",
       " array([48.828, 50.795, 51.557, ..., 71.008, 71.011, 71.028]),\n",
       " array([48.828, 50.795, 51.557, ..., 71.008, 71.011, 71.028])]"
      ]
     },
     "execution_count": 18,
     "metadata": {},
     "output_type": "execute_result"
    }
   ],
   "source": [
    "e_dB"
   ]
  },
  {
   "cell_type": "code",
   "execution_count": 25,
   "metadata": {},
   "outputs": [],
   "source": [
    "def reduz_dimensão(matriz):\n",
    "    m_aux=[]\n",
    "    for line in matriz:\n",
    "        m_aux.append(converte_oitava(np.array(line)))\n",
    "    return np.array(m_aux)"
   ]
  },
  {
   "cell_type": "code",
   "execution_count": 26,
   "metadata": {},
   "outputs": [],
   "source": [
    "x=reduz_dimensão(e_dB)"
   ]
  },
  {
   "cell_type": "code",
   "execution_count": 27,
   "metadata": {},
   "outputs": [
    {
     "data": {
      "text/plain": [
       "(24, 9)"
      ]
     },
     "execution_count": 27,
     "metadata": {},
     "output_type": "execute_result"
    }
   ],
   "source": [
    "x.shape"
   ]
  }
 ],
 "metadata": {
  "kernelspec": {
   "display_name": "Python 3",
   "language": "python",
   "name": "python3"
  },
  "language_info": {
   "codemirror_mode": {
    "name": "ipython",
    "version": 3
   },
   "file_extension": ".py",
   "mimetype": "text/x-python",
   "name": "python",
   "nbconvert_exporter": "python",
   "pygments_lexer": "ipython3",
   "version": "3.5.3"
  }
 },
 "nbformat": 4,
 "nbformat_minor": 2
}
