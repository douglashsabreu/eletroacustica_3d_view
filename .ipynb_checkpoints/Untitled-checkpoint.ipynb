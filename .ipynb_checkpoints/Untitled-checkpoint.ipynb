{
 "cells": [
  {
   "cell_type": "code",
   "execution_count": 1,
   "metadata": {},
   "outputs": [],
   "source": [
    "import glob\n",
    "import numpy as np\n",
    "import os\n",
    "import pandas as pd"
   ]
  },
  {
   "cell_type": "code",
   "execution_count": 2,
   "metadata": {},
   "outputs": [],
   "source": [
    "def read_data(filename,col):\n",
    "    data = pd.read_csv(filename, header=None, error_bad_lines=False, sep='\\n', delimiter=';').values\n",
    "    return data[:,col].astype(float)"
   ]
  },
  {
   "cell_type": "code",
   "execution_count": 3,
   "metadata": {},
   "outputs": [],
   "source": [
    "path = os.path.join('txt_resp_freq', 'E_0.txt')\n",
    "f_axis = read_data(path,0)"
   ]
  },
  {
   "cell_type": "code",
   "execution_count": 4,
   "metadata": {},
   "outputs": [
    {
     "data": {
      "text/plain": [
       "array([1.9851000e+01, 2.0187000e+01, 2.0524000e+01, ..., 1.9998963e+04,\n",
       "       1.9999299e+04, 1.9999637e+04])"
      ]
     },
     "execution_count": 4,
     "metadata": {},
     "output_type": "execute_result"
    }
   ],
   "source": [
    "f_axis"
   ]
  },
  {
   "cell_type": "code",
   "execution_count": 5,
   "metadata": {},
   "outputs": [],
   "source": [
    "eixo_polar= glob.glob('./txt_resp_freq/P_[0-9]*.txt')\n",
    "eixo_equador= glob.glob('./txt_resp_freq/E_[0-9]*.txt')"
   ]
  },
  {
   "cell_type": "code",
   "execution_count": 6,
   "metadata": {},
   "outputs": [],
   "source": [
    "p_dB=[]\n",
    "for file in eixo_polar:\n",
    "    data = read_data(file,1)\n",
    "    p_dB.append(data)"
   ]
  },
  {
   "cell_type": "code",
   "execution_count": 7,
   "metadata": {},
   "outputs": [],
   "source": [
    "e_dB=[]\n",
    "for file in eixo_equador:\n",
    "    data = read_data(file,1)\n",
    "    e_dB.append(data)"
   ]
  },
  {
   "cell_type": "code",
   "execution_count": 9,
   "metadata": {},
   "outputs": [],
   "source": [
    "def soma_dB(f):\n",
    "    aux = 0\n",
    "    for idx in f:\n",
    "        aux=aux + (10**(idx/10))\n",
    "    \n",
    "    dB = 10*(np.log10(aux))\n",
    "    return dB\n"
   ]
  },
  {
   "cell_type": "markdown",
   "metadata": {},
   "source": [
    "# Frequências por oitavas(centro) e seus limites           \n",
    "          \n",
    "    # 44\t 63 \t  88      [72:203]\n",
    "    # 88\t 125\t  177     [204:467]\n",
    "    # 177    250\t  355     [468:996]\n",
    "    # 355    500\t  710     [997:2051]\n",
    "    # 710    1000\t 1420    [2052:4162]\n",
    "    # 1420   2000\t 2840    [4163:8382]\n",
    "    # 2840   4000\t 5680    [8383:16823]\n",
    "    # 5680   8000\t 11360   [16824:33705]\n",
    "    # 11360  16000    22720   [33706:]\n",
    " "
   ]
  },
  {
   "cell_type": "code",
   "execution_count": null,
   "metadata": {},
   "outputs": [],
   "source": []
  },
  {
   "cell_type": "code",
   "execution_count": null,
   "metadata": {},
   "outputs": [],
   "source": []
  }
 ],
 "metadata": {
  "kernelspec": {
   "display_name": "Python 3",
   "language": "python",
   "name": "python3"
  },
  "language_info": {
   "codemirror_mode": {
    "name": "ipython",
    "version": 3
   },
   "file_extension": ".py",
   "mimetype": "text/x-python",
   "name": "python",
   "nbconvert_exporter": "python",
   "pygments_lexer": "ipython3",
   "version": "3.7.3"
  }
 },
 "nbformat": 4,
 "nbformat_minor": 2
}
